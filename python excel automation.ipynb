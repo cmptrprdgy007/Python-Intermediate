{
 "cells": [
  {
   "cell_type": "code",
   "execution_count": 29,
   "id": "8b9ac07a",
   "metadata": {},
   "outputs": [],
   "source": [
    "import openpyxl as xl\n",
    "wb = xl.load_workbook('transactions.xlsx')\n",
    "sheet  = wb['Sheet1']\n",
    "cell = sheet['a1']\n",
    "cell = sheet.cell(1,1)\n",
    "#print(sheet.max_row)\n",
    "\n",
    "\n",
    "for row in range(2,sheet.max_row+1):\n",
    "    cell = sheet.cell(row,3)\n",
    "    correct_price = cell.value * 9\n",
    "    correct_price_cell = sheet.cell(row,4)\n",
    "    correct_price_cell.value = correct_price\n",
    "    \n",
    "    \n",
    "wb.save('trans.xlsx')\n",
    "    \n"
   ]
  },
  {
   "cell_type": "code",
   "execution_count": null,
   "id": "0d123b7d",
   "metadata": {},
   "outputs": [],
   "source": []
  }
 ],
 "metadata": {
  "kernelspec": {
   "display_name": "Python 3 (ipykernel)",
   "language": "python",
   "name": "python3"
  },
  "language_info": {
   "codemirror_mode": {
    "name": "ipython",
    "version": 3
   },
   "file_extension": ".py",
   "mimetype": "text/x-python",
   "name": "python",
   "nbconvert_exporter": "python",
   "pygments_lexer": "ipython3",
   "version": "3.9.12"
  }
 },
 "nbformat": 4,
 "nbformat_minor": 5
}
